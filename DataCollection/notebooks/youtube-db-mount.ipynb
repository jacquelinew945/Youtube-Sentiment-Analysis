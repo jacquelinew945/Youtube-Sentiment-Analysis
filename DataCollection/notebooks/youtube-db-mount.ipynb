{
 "cells": [
  {
   "cell_type": "code",
   "execution_count": 0,
   "metadata": {
    "application/vnd.databricks.v1+cell": {
     "cellMetadata": {
      "byteLimit": 2048000,
      "rowLimit": 10000
     },
     "inputWidgets": {},
     "nuid": "25dd621b-ab87-4f66-b473-1a7de35d1152",
     "showTitle": false,
     "title": ""
    }
   },
   "outputs": [
    {
     "output_type": "stream",
     "name": "stdout",
     "output_type": "stream",
     "text": [
      "Out[2]: True"
     ]
    }
   ],
   "source": [
    "import os\n",
    "\n",
    "# Setting up configurations\n",
    "account_name = \"youtubedb\" \n",
    "\n",
    "sas_token = os.environ.get(\"AZURE_KEY\")\n",
    "\n",
    "# Mounting the Blob Storage\n",
    "blob_container_name = \"youtube-comments\"\n",
    "mount_name = \"youtube-news-comments\"\n",
    "mount_point = f\"/mnt/{mount_name}\"\n",
    "\n",
    "conf_key = f\"fs.azure.sas.{blob_container_name}.{account_name}.blob.core.windows.net\"\n",
    "\n",
    "spark.conf.set(conf_key, sas_token)\n",
    "\n",
    "source = f\"wasbs://{blob_container_name}@{account_name}.blob.core.windows.net/\"\n",
    "\n",
    "dbutils.fs.mount(\n",
    "  source=source,\n",
    "  mount_point=mount_point,\n",
    "  extra_configs={conf_key: sas_token}\n",
    ")"
   ]
  },
  {
   "cell_type": "code",
   "execution_count": 0,
   "metadata": {
    "application/vnd.databricks.v1+cell": {
     "cellMetadata": {},
     "inputWidgets": {},
     "nuid": "681b9cc2-3c7c-4a37-b53d-515d744952ac",
     "showTitle": false,
     "title": ""
    }
   },
   "outputs": [],
   "source": [
    "dbutils.fs.ls(mount_point+\"/youtube-comments/\")"
   ]
  }
 ],
 "metadata": {
  "application/vnd.databricks.v1+notebook": {
   "dashboards": [],
   "language": "python",
   "notebookMetadata": {
    "pythonIndentUnit": 4
   },
   "notebookName": "youtube-db-mount",
   "widgets": {}
  }
 },
 "nbformat": 4,
 "nbformat_minor": 0
}
