{
 "cells": [
  {
   "cell_type": "code",
   "execution_count": 0,
   "metadata": {
    "application/vnd.databricks.v1+cell": {
     "cellMetadata": {
      "byteLimit": 2048000,
      "rowLimit": 10000
     },
     "inputWidgets": {},
     "nuid": "4d78c5ad-1bd0-4f44-a0a2-7fde14ae63b8",
     "showTitle": false,
     "title": ""
    }
   },
   "outputs": [],
   "source": [
    "mount_name = \"youtube-news-comments\"\n",
    "mount_point = f\"/mnt/{mount_name}\""
   ]
  },
  {
   "cell_type": "code",
   "execution_count": 0,
   "metadata": {
    "application/vnd.databricks.v1+cell": {
     "cellMetadata": {
      "byteLimit": 2048000,
      "rowLimit": 10000
     },
     "inputWidgets": {},
     "nuid": "cfb4a72e-5b1b-47fd-b030-fbe0053487de",
     "showTitle": false,
     "title": ""
    }
   },
   "outputs": [],
   "source": [
    "all_items = dbutils.fs.ls(mount_point+\"/youtube-comments/\")\n",
    "json_files = [item.path for item in all_items if item.path.endswith(\".json\")]\n",
    "new_file = sorted(json_files, reverse=True)[0]"
   ]
  },
  {
   "cell_type": "code",
   "execution_count": 0,
   "metadata": {
    "application/vnd.databricks.v1+cell": {
     "cellMetadata": {
      "byteLimit": 2048000,
      "rowLimit": 10000
     },
     "inputWidgets": {},
     "nuid": "1769186b-92ee-422d-b084-f78189e59300",
     "showTitle": false,
     "title": ""
    }
   },
   "outputs": [
    {
     "output_type": "stream",
     "name": "stdout",
     "output_type": "stream",
     "text": [
      "root\n |-- author: string (nullable = true)\n |-- comment_id: string (nullable = true)\n |-- like_count: long (nullable = true)\n |-- published_at: string (nullable = true)\n |-- text: string (nullable = true)\n |-- video_id: string (nullable = true)\n\n"
     ]
    }
   ],
   "source": [
    "df = spark.read.json(new_file)\n",
    "df.printSchema()"
   ]
  },
  {
   "cell_type": "code",
   "execution_count": 0,
   "metadata": {
    "application/vnd.databricks.v1+cell": {
     "cellMetadata": {
      "byteLimit": 2048000,
      "rowLimit": 10000
     },
     "inputWidgets": {},
     "nuid": "72ae0cac-88e3-48d5-8f98-49eb177fe8df",
     "showTitle": false,
     "title": ""
    }
   },
   "outputs": [],
   "source": [
    "# preprocessing\n",
    "from pyspark.sql.functions import col, lower\n",
    "\n",
    "df = df.dropDuplicates()\n",
    "df = df.filter(col(\"text\").isNotNull() & (col(\"text\") != \"\"))   # remove nulls\n",
    "df = df.withColumn(\"text\", lower(col(\"text\")))  # lowercasing"
   ]
  },
  {
   "cell_type": "code",
   "execution_count": 0,
   "metadata": {
    "application/vnd.databricks.v1+cell": {
     "cellMetadata": {
      "byteLimit": 2048000,
      "rowLimit": 10000
     },
     "inputWidgets": {},
     "nuid": "2ac6514f-581c-4bbe-b950-6631c8f8d720",
     "showTitle": false,
     "title": ""
    }
   },
   "outputs": [],
   "source": [
    "# special character removal\n",
    "from pyspark.sql.functions import regexp_replace\n",
    "\n",
    "url_pattern = r'http\\S+'\n",
    "df = df.withColumn(\"text\", regexp_replace(df[\"text\"], url_pattern, ''))\n",
    "df = df.withColumn(\"text\", regexp_replace(df[\"text\"], r'[^a-zA-Z\\s]', ''))"
   ]
  },
  {
   "cell_type": "code",
   "execution_count": 0,
   "metadata": {
    "application/vnd.databricks.v1+cell": {
     "cellMetadata": {
      "byteLimit": 2048000,
      "rowLimit": 10000
     },
     "inputWidgets": {},
     "nuid": "a64dba55-a4a0-416c-bd81-41355b135fec",
     "showTitle": false,
     "title": ""
    }
   },
   "outputs": [],
   "source": [
    "from pyspark.ml.feature import Tokenizer, StopWordsRemover\n",
    "\n",
    "tokenizer = Tokenizer(inputCol=\"text\", outputCol=\"words\")\n",
    "df = tokenizer.transform(df)\n",
    "\n",
    "remover = StopWordsRemover(inputCol=\"words\", outputCol=\"filtered_words\")\n",
    "df = remover.transform(df)"
   ]
  },
  {
   "cell_type": "code",
   "execution_count": 0,
   "metadata": {
    "application/vnd.databricks.v1+cell": {
     "cellMetadata": {
      "byteLimit": 2048000,
      "rowLimit": 10000
     },
     "inputWidgets": {},
     "nuid": "37634f88-08dd-477f-b526-8a3156d1db8b",
     "showTitle": false,
     "title": ""
    }
   },
   "outputs": [
    {
     "output_type": "stream",
     "name": "stdout",
     "output_type": "stream",
     "text": [
      "+--------------------+--------------------+----------+--------------------+--------------------+-----------+--------------------+--------------------+\n|              author|          comment_id|like_count|        published_at|                text|   video_id|               words|      filtered_words|\n+--------------------+--------------------+----------+--------------------+--------------------+-----------+--------------------+--------------------+\n|       Gloria Waslyn|Ugw3k-ZTd_0tMiJN8...|         1|2023-08-30T01:59:33Z|ginny thomas was ...|VIf1802ihuo|[ginny, thomas, w...|[ginny, thomas, c...|\n|       US Asiri News|UgyGOnAC1pFmVWHXG...|         0|2023-08-30T06:15:47Z|the chief of staf...|VIf1802ihuo|[the, chief, of, ...|[chief, staff, pr...|\n|         angel smith|UgwX7a4_qrCpgA44E...|         2|2023-08-30T03:59:05Z|oh it must be tue...|K3vd9Ln-pcA|[oh, it, must, be...|[oh, must, tuesda...|\n|        Kal Palnicki|UgwLk0572XtCHreKa...|         1|2023-08-30T00:54:11Z|in politics truth...|kpIH3vKc0Gw|[in, politics, tr...|[politics, truth,...|\n|          Harry Jove|UgxGjZOSRtEbSWeqG...|         4|2023-08-29T22:25:10Z|christie the big ...|kpIH3vKc0Gw|[christie, the, b...|[christie, big, o...|\n|         cajunblade1|Ugykznl-ig2TLpL4Q...|         0|2023-08-29T18:37:57Z|why do you always...|RbqCH8X8U-Q|[why, do, you, al...|[always, ask, que...|\n|   Juan Pablo Flores|UgzN4AMo945L73OUf...|         0|2023-08-30T03:12:11Z|the capitol surro...|BkoYYcklDLc|[the, capitol, su...|[capitol, surroun...|\n|              Deedee|UgweYliUiy0DYOwVU...|         0|2023-08-30T11:16:55Z| years wow looks ...|3LL5RR5tH9k|[, years, wow, lo...|[, years, wow, lo...|\n|     Chris Kleinbach|Ugwy3OFfkazRRAf_m...|         2|2023-08-30T09:51:44Z|ian was a categor...|58Ym9nGUkxU|[ian, was, a, cat...|[ian, category, ,...|\n|         David Smith|UgxqSIuCNkTjAx0kC...|         3|2023-08-29T20:31:44Z|may our lord welc...|ue6ljhnx39Y|[may, our, lord, ...|[may, lord, welco...|\n|         jim demetri|UgwnxNR41kXTFQ-4r...|        16|2023-08-30T09:42:53Z|god help africa f...|a3lG4dnV7Fw|[god, help, afric...|[god, help, afric...|\n|      clinton wafula|UgwjtIlJb7ldYj4t_...|         1|2023-08-30T10:58:57Z|congratulations g...|a3lG4dnV7Fw|[congratulations,...|[congratulations,...|\n|     Muslim Response|UgyjLX0t1AmDDGjMd...|        32|2023-08-30T06:43:52Z|senegal  and nige...|ovJJCVIsE3g|[senegal, , and, ...|[senegal, , niger...|\n|     Eric Churchwell|UgzvRqTZ_WcpfDmON...|        10|2023-08-23T20:09:46Z|truth is always c...|hwFto7GXXyw|[truth, is, alway...|[truth, always, c...|\n|     Manos Canavarro|UgzMZpG3eKd0jDKfo...|       573|2022-09-21T15:46:15Z|even tho im not f...|7YjY00Cd_MI|[even, tho, im, n...|[even, tho, im, s...|\n|        John Hawkins|Ugxijt14_jvdXXrXF...|         0|2022-12-28T12:50:33Z|the whole electio...|7YjY00Cd_MI|[the, whole, elec...|[whole, election,...|\n|1🌎govonlywMessia...|UgwvqaG2zy5ZwsN-_...|         3|2022-06-24T23:39:07Z|the problem is th...|Oo_FM3mjBCY|[the, problem, is...|[problem, frame, ...|\n|   Show Me Something|Ugw2eL_f5_6fzqVUz...|       107|2022-06-10T17:16:52Z|majority of woman...|v1_ilS5zku8|[majority, of, wo...|[majority, woman,...|\n|              박혁균|UgzAkyUyGAw6uRbuO...|         0|2023-08-30T09:56:28Z|please save our s...|W8a-zoijPDs|[please, save, ou...|[please, save, so...|\n|       Richard Peake|UgzZV-t0obKLzN6tZ...|         5|2023-08-30T03:41:32Z|is rishis father ...|sSvD-E3-jas|[is, rishis, fath...|[rishis, father, ...|\n+--------------------+--------------------+----------+--------------------+--------------------+-----------+--------------------+--------------------+\nonly showing top 20 rows\n\n"
     ]
    }
   ],
   "source": [
    "df.show()"
   ]
  },
  {
   "cell_type": "code",
   "execution_count": 0,
   "metadata": {
    "application/vnd.databricks.v1+cell": {
     "cellMetadata": {
      "byteLimit": 2048000,
      "rowLimit": 10000
     },
     "inputWidgets": {},
     "nuid": "5204d917-77d3-469c-b8fc-1a86a953a136",
     "showTitle": false,
     "title": ""
    }
   },
   "outputs": [],
   "source": [
    "from pyspark.sql.functions import udf\n",
    "from pyspark.sql.types import StringType\n",
    "\n",
    "def array_to_string(my_list):\n",
    "    return ','.join(my_list)\n",
    "\n",
    "array_to_string_udf = udf(array_to_string, StringType())\n",
    "\n",
    "# convert 'words' column to string\n",
    "df = df.withColumn(\"words\", array_to_string_udf(df[\"words\"]))\n",
    "\n",
    "# convert 'filtered_words' column to string\n",
    "df = df.withColumn(\"filtered_words\", array_to_string_udf(df[\"filtered_words\"]))"
   ]
  },
  {
   "cell_type": "code",
   "execution_count": 0,
   "metadata": {
    "application/vnd.databricks.v1+cell": {
     "cellMetadata": {
      "byteLimit": 2048000,
      "rowLimit": 10000
     },
     "inputWidgets": {},
     "nuid": "074e1d4b-c17b-40d2-bd5b-1fdabf30bf5e",
     "showTitle": false,
     "title": ""
    }
   },
   "outputs": [],
   "source": [
    "# save processed json file as a csv\n",
    "import os\n",
    "\n",
    "# extract filename from the original path\n",
    "filename = new_file.split(\"/\")[-1]\n",
    "\n",
    "# replace the .json extension with _processed.csv\n",
    "processed_filename = filename.replace(\".json\", \"_processed.csv\")\n",
    "\n",
    "# construct the new path for the processed data\n",
    "processed_path = os.path.join(os.path.dirname(new_file), processed_filename)\n",
    "temp_path = processed_path + \"_temp\"\n",
    "\n",
    "# save the processed DataFrame to the new path as a single CSV\n",
    "df.coalesce(1).write.option(\"header\", \"true\").option(\"delimiter\", \"|\").csv(temp_path)"
   ]
  },
  {
   "cell_type": "code",
   "execution_count": 0,
   "metadata": {
    "application/vnd.databricks.v1+cell": {
     "cellMetadata": {
      "byteLimit": 2048000,
      "rowLimit": 10000
     },
     "inputWidgets": {},
     "nuid": "fa285dd2-dad6-484a-a47d-f9d9397578c3",
     "showTitle": false,
     "title": ""
    }
   },
   "outputs": [],
   "source": [
    "# locate the \"part-\" file in the temporary location\n",
    "files = dbutils.fs.ls(temp_path)\n",
    "part_file = next((f for f in files if f.name.startswith(\"part-\")), None)\n",
    "if part_file:\n",
    "    old_path = os.path.join(temp_path, part_file.name)\n",
    "\n",
    "    # rename this \"part-\" file to the desired location\n",
    "    new_path = os.path.join('/mnt/youtube-news-comments/youtube-comments/', processed_filename)\n",
    "    if dbutils.fs.cp(old_path, new_path):  \n",
    "        dbutils.fs.rm(temp_path, recurse=True)  "
   ]
  }
 ],
 "metadata": {
  "application/vnd.databricks.v1+notebook": {
   "dashboards": [],
   "language": "python",
   "notebookMetadata": {
    "pythonIndentUnit": 4
   },
   "notebookName": "youtube-comment-preprocessing",
   "widgets": {}
  }
 },
 "nbformat": 4,
 "nbformat_minor": 0
}
