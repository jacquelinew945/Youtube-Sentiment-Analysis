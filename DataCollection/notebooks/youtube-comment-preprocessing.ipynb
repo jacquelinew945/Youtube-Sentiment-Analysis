{
 "cells": [
  {
   "cell_type": "code",
   "execution_count": 0,
   "metadata": {
    "application/vnd.databricks.v1+cell": {
     "cellMetadata": {
      "byteLimit": 2048000,
      "rowLimit": 10000
     },
     "inputWidgets": {},
     "nuid": "4d78c5ad-1bd0-4f44-a0a2-7fde14ae63b8",
     "showTitle": false,
     "title": ""
    }
   },
   "outputs": [],
   "source": [
    "mount_name = \"youtube-news-comments\"\n",
    "mount_point = f\"/mnt/{mount_name}\""
   ]
  },
  {
   "cell_type": "code",
   "execution_count": 0,
   "metadata": {
    "application/vnd.databricks.v1+cell": {
     "cellMetadata": {
      "byteLimit": 2048000,
      "rowLimit": 10000
     },
     "inputWidgets": {},
     "nuid": "cfb4a72e-5b1b-47fd-b030-fbe0053487de",
     "showTitle": false,
     "title": ""
    }
   },
   "outputs": [],
   "source": [
    "all_items = dbutils.fs.ls(mount_point+\"/youtube-comments/\")\n",
    "json_files = [item.path for item in all_items if item.path.endswith(\".json\")]\n",
    "new_file = sorted(json_files, reverse=True)[0]"
   ]
  },
  {
   "cell_type": "code",
   "execution_count": 0,
   "metadata": {
    "application/vnd.databricks.v1+cell": {
     "cellMetadata": {
      "byteLimit": 2048000,
      "rowLimit": 10000
     },
     "inputWidgets": {},
     "nuid": "1769186b-92ee-422d-b084-f78189e59300",
     "showTitle": false,
     "title": ""
    }
   },
   "outputs": [
    {
     "output_type": "stream",
     "name": "stdout",
     "output_type": "stream",
     "text": [
      "root\n |-- author: string (nullable = true)\n |-- comment_id: string (nullable = true)\n |-- like_count: long (nullable = true)\n |-- published_at: string (nullable = true)\n |-- text: string (nullable = true)\n |-- video_id: string (nullable = true)\n\n"
     ]
    }
   ],
   "source": [
    "df = spark.read.json(new_file)\n",
    "df.printSchema()"
   ]
  },
  {
   "cell_type": "code",
   "execution_count": 0,
   "metadata": {
    "application/vnd.databricks.v1+cell": {
     "cellMetadata": {
      "byteLimit": 2048000,
      "rowLimit": 10000
     },
     "inputWidgets": {},
     "nuid": "72ae0cac-88e3-48d5-8f98-49eb177fe8df",
     "showTitle": false,
     "title": ""
    }
   },
   "outputs": [],
   "source": [
    "# preprocessing\n",
    "from pyspark.sql.functions import col, lower\n",
    "\n",
    "df = df.dropDuplicates()\n",
    "df = df.filter(col(\"text\").isNotNull() & (col(\"text\") != \"\"))\n",
    "df = df.withColumn(\"text\", lower(col(\"text\")))"
   ]
  },
  {
   "cell_type": "code",
   "execution_count": 0,
   "metadata": {
    "application/vnd.databricks.v1+cell": {
     "cellMetadata": {
      "byteLimit": 2048000,
      "rowLimit": 10000
     },
     "inputWidgets": {},
     "nuid": "a64dba55-a4a0-416c-bd81-41355b135fec",
     "showTitle": false,
     "title": ""
    }
   },
   "outputs": [],
   "source": [
    "from pyspark.ml.feature import Tokenizer, StopWordsRemover\n",
    "\n",
    "tokenizer = Tokenizer(inputCol=\"text\", outputCol=\"words\")\n",
    "df = tokenizer.transform(df)\n",
    "\n",
    "remover = StopWordsRemover(inputCol=\"words\", outputCol=\"filtered_words\")\n",
    "df = remover.transform(df)"
   ]
  },
  {
   "cell_type": "code",
   "execution_count": 0,
   "metadata": {
    "application/vnd.databricks.v1+cell": {
     "cellMetadata": {
      "byteLimit": 2048000,
      "rowLimit": 10000
     },
     "inputWidgets": {},
     "nuid": "074e1d4b-c17b-40d2-bd5b-1fdabf30bf5e",
     "showTitle": false,
     "title": ""
    }
   },
   "outputs": [],
   "source": [
    "# save processed json file\n",
    "import os\n",
    "\n",
    "# extract filename from the original path\n",
    "filename = new_file.split(\"/\")[-1]\n",
    "\n",
    "# replace the .json extension with _processed.json\n",
    "processed_filename = filename.replace(\".json\", \"_processed.json\")\n",
    "\n",
    "# construct the new path for the processed data\n",
    "processed_path = new_file.rsplit(\"/\", 1)[0] + \"/\" + processed_filename\n",
    "\n",
    "# save the processed DataFrame to the new path\n",
    "df.write.json(processed_path)\n"
   ]
  },
  {
   "cell_type": "code",
   "execution_count": 0,
   "metadata": {
    "application/vnd.databricks.v1+cell": {
     "cellMetadata": {},
     "inputWidgets": {},
     "nuid": "8c369ab1-e7d8-44c8-9a53-8173081f21cf",
     "showTitle": false,
     "title": ""
    }
   },
   "outputs": [],
   "source": []
  }
 ],
 "metadata": {
  "application/vnd.databricks.v1+notebook": {
   "dashboards": [],
   "language": "python",
   "notebookMetadata": {
    "pythonIndentUnit": 4
   },
   "notebookName": "youtube-comment-preprocessing",
   "widgets": {}
  }
 },
 "nbformat": 4,
 "nbformat_minor": 0
}
